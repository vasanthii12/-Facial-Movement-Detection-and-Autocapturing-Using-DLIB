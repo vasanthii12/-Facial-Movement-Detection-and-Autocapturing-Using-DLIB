{
 "cells": [
  {
   "cell_type": "code",
   "execution_count": 1,
   "id": "76ac2c98-4eca-4f6d-8d02-39f6ef90aa70",
   "metadata": {},
   "outputs": [
    {
     "name": "stdout",
     "output_type": "stream",
     "text": [
      "[INFO] starting video stream thread...\n",
      "opencv_frame_1.png written!\n",
      "opencv_frame_2.png written!\n",
      "opencv_frame_3.png written!\n",
      "opencv_frame_4.png written!\n"
     ]
    }
   ],
   "source": [
    "from scipy.spatial import distance as dist\n",
    "from imutils.video import VideoStream, FPS\n",
    "from imutils import face_utils\n",
    "import imutils\n",
    "import numpy as np\n",
    "import time\n",
    "import dlib\n",
    "import cv2\n",
    "\n",
    "def smile(mouth):\n",
    "    A = dist.euclidean(mouth[3], mouth[9])\n",
    "    B = dist.euclidean(mouth[2], mouth[10])\n",
    "    C = dist.euclidean(mouth[4], mouth[8])\n",
    "    avg = (A+B+C)/3\n",
    "    D = dist.euclidean(mouth[0], mouth[6])\n",
    "    mar=avg/D\n",
    "    return mar\n",
    "\n",
    "COUNTER = 0\n",
    "TOTAL = 0\n",
    "MAX_DURATION = 60\n",
    "\n",
    "shape_predictor = \"E:\\\\pooji\\\\ML project\\\\archive\\\\shape_predictor_68_face_landmarks.dat\"\n",
    "detector = dlib.get_frontal_face_detector()\n",
    "predictor = dlib.shape_predictor(shape_predictor)\n",
    "(mStart, mEnd) = face_utils.FACIAL_LANDMARKS_IDXS[\"mouth\"]\n",
    "\n",
    "print(\"[INFO] starting video stream thread...\")\n",
    "vs = VideoStream(src=0).start()\n",
    "fileStream = False\n",
    "time.sleep(1.0)\n",
    "\n",
    "fps = FPS().start()\n",
    "cv2.namedWindow(\"test\")\n",
    "\n",
    "start_time = time.time()\n",
    "\n",
    "while time.time() - start_time < MAX_DURATION:\n",
    "    frame = vs.read()\n",
    "    frame = imutils.resize(frame, width=450)\n",
    "    gray = cv2.cvtColor(frame, cv2.COLOR_BGR2GRAY)\n",
    "    rects = detector(gray, 0)\n",
    "    for rect in rects:\n",
    "        shape = predictor(gray, rect)\n",
    "        shape = face_utils.shape_to_np(shape)\n",
    "        mouth = shape[mStart:mEnd]\n",
    "        mar = smile(mouth)\n",
    "        mouthHull = cv2.convexHull(mouth)\n",
    "        cv2.drawContours(frame, [mouthHull], -1, (0, 255, 0), 1)\n",
    "        \n",
    "        if mar <= .3 or mar > .38:\n",
    "            COUNTER += 1\n",
    "        else:\n",
    "            if COUNTER >= 15:\n",
    "                TOTAL += 1\n",
    "                frame = vs.read()\n",
    "                time.sleep(.3)\n",
    "                frame2 = frame.copy()\n",
    "                img_name = \"opencv_frame_{}.png\".format(TOTAL)\n",
    "                cv2.imwrite(img_name, frame)\n",
    "                print(\"{} written!\".format(img_name))\n",
    "            COUNTER = 0\n",
    "\n",
    "        cv2.putText(frame, \"MAR: {:.2f}\".format(mar), (10, 30), cv2.FONT_HERSHEY_SIMPLEX, 0.5, (0, 0, 255), 2)\n",
    "\n",
    "    cv2.imshow(\"Frame\", frame)\n",
    "    fps.update()\n",
    "\n",
    "    key = cv2.waitKey(1) & 0xFF\n",
    "    if key == ord('q'):\n",
    "        break\n",
    "\n",
    "fps.stop()\n",
    "cv2.destroyAllWindows()\n",
    "vs.stop()\n"
   ]
  },
  {
   "cell_type": "code",
   "execution_count": null,
   "id": "a2711c26-f844-4c61-bfb3-65c5857887a5",
   "metadata": {},
   "outputs": [],
   "source": []
  }
 ],
 "metadata": {
  "kernelspec": {
   "display_name": "Python 3 (ipykernel)",
   "language": "python",
   "name": "python3"
  },
  "language_info": {
   "codemirror_mode": {
    "name": "ipython",
    "version": 3
   },
   "file_extension": ".py",
   "mimetype": "text/x-python",
   "name": "python",
   "nbconvert_exporter": "python",
   "pygments_lexer": "ipython3",
   "version": "3.12.2"
  }
 },
 "nbformat": 4,
 "nbformat_minor": 5
}
